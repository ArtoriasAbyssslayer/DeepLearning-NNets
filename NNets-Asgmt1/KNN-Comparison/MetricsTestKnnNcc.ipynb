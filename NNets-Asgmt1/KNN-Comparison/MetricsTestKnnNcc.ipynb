{
 "cells": [
  {
   "cell_type": "code",
   "execution_count": 1,
   "id": "2155f069",
   "metadata": {},
   "outputs": [
    {
     "ename": "NameError",
     "evalue": "name 'img_rows' is not defined",
     "output_type": "error",
     "traceback": [
      "\u001b[0;31m---------------------------------------------------------------------------\u001b[0m",
      "\u001b[0;31mNameError\u001b[0m                                 Traceback (most recent call last)",
      "Cell \u001b[0;32mIn [1], line 15\u001b[0m\n\u001b[1;32m     13\u001b[0m \u001b[39m# Load Dataset\u001b[39;00m\n\u001b[1;32m     14\u001b[0m mg_rows, img_cols \u001b[39m=\u001b[39m \u001b[39m32\u001b[39m, \u001b[39m32\u001b[39m\n\u001b[0;32m---> 15\u001b[0m input_shape \u001b[39m=\u001b[39m (img_rows, img_cols, \u001b[39m3\u001b[39m)\n\u001b[1;32m     16\u001b[0m \u001b[39mdef\u001b[39;00m \u001b[39mload_pickle\u001b[39m(f):\n\u001b[1;32m     17\u001b[0m     version \u001b[39m=\u001b[39m platform\u001b[39m.\u001b[39mpython_version_tuple()\n",
      "\u001b[0;31mNameError\u001b[0m: name 'img_rows' is not defined"
     ]
    }
   ],
   "source": [
    "from sklearn.neighbors import KNeighborsClassifier, NearestCentroid\n",
    "from knn_generic import knn,euclidean_distance\n",
    "from nearestClassCentroid import ncc\n",
    "import sys\n",
    "import torch \n",
    "# caution: path[0] is reserved for script path (or '' in REPL)\n",
    "sys.path.insert(1, '../../')\n",
    "from utils.data_loader_CIFAR import load_cifar10,imshow\n",
    "from utils.data_loader_Intel import load_Intel \n",
    "from sklearn import metrics\n",
    "import os\n",
    "import pickle \n",
    "import pandas as pd\n",
    "import numpy as np\n",
    "import math\n",
    "import time \n",
    "# define classes in a tuple\n",
    "classes = ('plane', 'car', 'bird', 'cat',\n",
    "           'deer', 'dog', 'frog', 'horse', 'ship', 'truck')\n",
    "# define images shape \n",
    "img_rows, img_cols = 32, 32\n",
    "input_shape = (img_rows, img_cols, 3)\n",
    "\n",
    "# Invoke the above function to get our data.\n",
    "# x_train, y_train, x_val, y_val, x_test, y_test = get_CIFAR10_data()\n",
    "trainloader,testloader = load_cifar10()\n",
    "dataiter = iter(trainloader)\n",
    "x_train,y_train =  next(dataiter)\n",
    "\n",
    "imshow(torchvision.utils.make_grid(x_train))\n",
    "print('Train data shape: ', x_train.shape)\n",
    "print('Train labels shape: ', y_train.shape)\n",
    "print('Validation data shape: ', x_val.shape)\n",
    "print('Validation labels shape: ', y_val.shape)\n",
    "print('Test data shape: ', x_test.shape)\n",
    "print('Test labels shape: ', y_test.shape)\n",
    "# batch size is the number groups that i load Cifar \n",
    "batch_size = 4\n",
    "print(''.join(f'{classes[y_train[j]]:5s}' for j in range batch_size))\n",
    "\n",
    "# Trying to record accuracy of sklearn.KNeighborsClassifier and custom knn with 1 to 3 Neighbors\n",
    "k_range = range(1,3)\n",
    "scores = {}\n",
    "scores2= = {}\n",
    "scores_list = []\n",
    "scores2_list = []\n",
    "for k in k_range:\n",
    "    knn = KNeighborsClassifier(n_neighbors=k)\n",
    "    knn.fit(X_train,y_train)\n",
    "    y_pred=knn.predict(x_test)\n",
    "    scores[k] = metrics.accuracy_score(y_test,y_pred)\n",
    "    scores2[k]\n",
    "    scores_list.append(metrics.accuracy_score(y_test,y_pred))\n",
    "\n",
    "printf(scores[k])\n",
    "#after running the code above, assign to n_neighbors the best performing value\n",
    "knn = KNeighborsClassifier(n_neighbors=1)\n",
    "knn.fit(X,y)\n",
    "y_pred= knn.predict(x_test)\n",
    "knn2 = knn(1,y_train,x_train,euclidean_distance,)"
   ]
  },
  {
   "cell_type": "code",
   "execution_count": null,
   "id": "cca66404",
   "metadata": {},
   "outputs": [],
   "source": []
  },
  {
   "cell_type": "markdown",
   "id": "4b2cbca0",
   "metadata": {},
   "source": [
    "## Try running knn neibours from 1 to 3 and record testing accuracy"
   ]
  },
  {
   "cell_type": "code",
   "execution_count": null,
   "id": "88e10905",
   "metadata": {},
   "outputs": [],
   "source": []
  },
  {
   "cell_type": "markdown",
   "id": "6a6c11f4",
   "metadata": {},
   "source": [
    "# Run same classifiers comparison for the Intel Classification Dataset \n",
    "Note dependencies are loaded in first code cell"
   ]
  },
  {
   "cell_type": "code",
   "execution_count": null,
   "id": "f93e06ba",
   "metadata": {},
   "outputs": [],
   "source": [
    "X_train,Y_train,X_test,Y_test,X_check,Y_check = load_Intel()"
   ]
  }
 ],
 "metadata": {
  "kernelspec": {
   "display_name": "Python 3.11.0 64-bit",
   "language": "python",
   "name": "python3"
  },
  "language_info": {
   "codemirror_mode": {
    "name": "ipython",
    "version": 3
   },
   "file_extension": ".py",
   "mimetype": "text/x-python",
   "name": "python",
   "nbconvert_exporter": "python",
   "pygments_lexer": "ipython3",
   "version": "3.11.0"
  },
  "vscode": {
   "interpreter": {
    "hash": "c261aea317cc0286b3b3261fbba9abdec21eaa57589985bb7a274bf54d6cc0a7"
   }
  }
 },
 "nbformat": 4,
 "nbformat_minor": 5
}
