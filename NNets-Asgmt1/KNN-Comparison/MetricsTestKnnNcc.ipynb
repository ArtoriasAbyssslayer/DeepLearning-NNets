{
 "cells": [
  {
   "cell_type": "markdown",
   "id": "072aa12c",
   "metadata": {},
   "source": [
    "## Try running knn neibours from 1 to 3 and record testing accuracy\n"
   ]
  },
  {
   "cell_type": "code",
   "execution_count": null,
   "id": "2155f069",
   "metadata": {},
   "outputs": [
    {
     "ename": "",
     "evalue": "",
     "output_type": "error",
     "traceback": [
      "\u001b[1;31mRunning cells with 'Python 3.8.13 ('airsim')' requires ipykernel package.\n",
      "\u001b[1;31mRun the following command to install 'ipykernel' into the Python environment. \n",
      "\u001b[1;31mCommand: 'conda install -n airsim ipykernel --update-deps --force-reinstall'"
     ]
    }
   ],
   "source": [
    "from sklearn.neighbors import KNeighborsClassifier, NearestCentroid\n",
    "from knn_generic import knn,euclidean_distance,mode\n",
    "import sys\n",
    "# caution: path[0] is reserved for script path (or '' in REPL)\n",
    "sys.path.append('../../NNets-Asgmt1/')\n",
    "from utils.data_loader_CIFAR import load_cifar10_iterators,imshow\n",
    "from utils.data_loader_Intel import load_Intel \n",
    "from sklearn import metrics\n",
    "import math\n",
    "import time \n",
    "from tqdm import tqdm \n",
    "# define classes in a tuple\n",
    "classes = ('plane', 'car', 'bird', 'cat',\n",
    "           'deer', 'dog', 'frog', 'horse', 'ship', 'truck')\n",
    "# define images shape \n",
    "img_rows, img_cols = 32, 32\n",
    "input_shape = (img_rows, img_cols, 3)\n",
    "\n",
    "# Invoke the above function to get our data.\n",
    "# x_train, y_train, x_val, y_val, x_test, y_test = get_CIFAR10_data()\n",
    "trainloader,testloader = load_cifar10_iterators()\n",
    "traindataiter = iter(trainloader)\n",
    "x_train,y_train =  next(traindataiter)\n",
    "\n",
    "\n",
    "testdataiter = iter(testloader)\n",
    "y_test,x_test = next(testdataiter)\n",
    "# show images\n",
    "imshow(torchvision.utils.make_grid(images))\n",
    "# print labels batch_size = 4\n",
    "batch_size = 4\n",
    "print(' '.join(f'{classes[labels[j]]:5s}' for j in range(batch_size)))\n",
    "print('Train data shape: ', x_train.shape)\n",
    "print('Train labels shape: ', y_train.shape)\n",
    "print('Validation data shape: ', x_val.shape)\n",
    "print('Validation labels shape: ', y_val.shape)\n",
    "print('Test data shape: ', x_test.shape)\n",
    "print('Test labels shape: ', y_test.shape)\n",
    "\n",
    "# Trying to record accuracy of sklearn.KNeighborsClassifier and custom knn with 1 to 3 Neighbors\n",
    "k_range = range(1,3)\n",
    "scores = {}\n",
    "scores2= {}\n",
    "times = {}\n",
    "times2 = {}\n",
    "scores_list = []\n",
    "scores2_list = []\n",
    "times_list = []\n",
    "times2_list = []\n",
    "for k in tqdm(k_range):\n",
    "    start1 = time.time()\n",
    "    knn = KNeighborsClassifier(n_neighbors=k)\n",
    "    knn.fit(X_train,y_train)\n",
    "    y_pred=knn.predict(x_test)\n",
    "    end1 = time.time()\n",
    "    print(metrics.classification_report(y_test,y_pred,classes))\n",
    "    times[k] = end1-start1\n",
    "    times_list.append(times[k])\n",
    "    scores[k] = metrics.accuracy_score(y_train,y_pred)\n",
    "    scores_list.append(scores[k])\n",
    "    start2 = time.time()\n",
    "    y_test2,y_pred2 = knn(k,y_train,x_train,euclidean_distance,mode)\n",
    "    end2 = time.time()\n",
    "    times2[k] = end2-start2\n",
    "    times2_list.append(times2[k])\n",
    "    scores2[k] = metrics.accuracy_score(y_test2,y_pred2)\n",
    "    scores2_list.append(scores2[k])\n",
    "# Classification report \n",
    "\n",
    "\n",
    "#after running the code above, assign to n_neighbors the best performing value\n"
   ]
  },
  {
   "cell_type": "markdown",
   "id": "1ac9ddde",
   "metadata": {},
   "source": [
    "### Try the same task with NearestCentroidClassifier"
   ]
  },
  {
   "cell_type": "code",
   "execution_count": null,
   "id": "cfe433bf",
   "metadata": {},
   "outputs": [],
   "source": [
    "from sklearn.neighbors import NearestCentroid\n",
    "from sklearn.metrics import accuracy_score\n",
    "\n",
    "from utils.data_loader_CIFAR import load_cifar10_iterators\n",
    "\n",
    "traindataiter,testdataiter = load_cifar10_iterators()\n",
    "traindataiter = iter(traindataiter)\n",
    "y_tain,x_train = next(traindataiter)\n",
    "testdataiter = iter(testdataiter)\n",
    "y_test,x_test = next(testdataiter)\n",
    "\n",
    "# Start timers\n",
    "start1 = time.time()\n",
    "# define classes in a tuple\n",
    "classes = ('plane', 'car', 'bird', 'cat',\n",
    "           'deer', 'dog', 'frog', 'horse', 'ship', 'truck')\n",
    "ncc_model = NearestCentroid()\n"
   ]
  },
  {
   "cell_type": "markdown",
   "id": "6a6c11f4",
   "metadata": {},
   "source": [
    "# Run same classifiers comparison for the Intel Classification Dataset \n",
    "Note dependencies are loaded in first code cell"
   ]
  },
  {
   "cell_type": "code",
   "execution_count": null,
   "id": "f93e06ba",
   "metadata": {},
   "outputs": [],
   "source": [
    "X_train,Y_train,X_test,Y_test,X_check,Y_check = load_Intel()"
   ]
  }
 ],
 "metadata": {
  "kernelspec": {
   "display_name": "Python 3.8.13 ('airsim')",
   "language": "python",
   "name": "python3"
  },
  "language_info": {
   "codemirror_mode": {
    "name": "ipython",
    "version": 3
   },
   "file_extension": ".py",
   "mimetype": "text/x-python",
   "name": "python",
   "nbconvert_exporter": "python",
   "pygments_lexer": "ipython3",
   "version": "3.8.13"
  },
  "vscode": {
   "interpreter": {
    "hash": "559c5ad41fbe458a50992bce583be21515c3c2fd64b515e556edc4e717adfe92"
   }
  }
 },
 "nbformat": 4,
 "nbformat_minor": 5
}
