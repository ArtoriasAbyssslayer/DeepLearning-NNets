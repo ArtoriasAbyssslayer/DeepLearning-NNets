{
 "cells": [
  {
   "cell_type": "markdown",
   "metadata": {},
   "source": [
    "# Image Classification with MLP Networks\n",
    "# Preliminaries\n",
    "In this notebook I present a method to classify images from two datasets (Intel and Cifar10) using MLP neural networks.\n",
    "The neural networks that would be presented would have both convolutional and dense layers.\n",
    "The convolutional layers purpose is not only to preprocess the image input in order to extract feature maps but to make the network robust to classfication,thus \n",
    "could be able to classify the object represented in image in any pixel-wise position it could be rendered.\n",
    "# Approach\n",
    "This approach is strictly on research basis thus I use pytorch framework to create the networks and I am focusing on different architecures,optimizers,training types(mini-batch training - online training), learning rates in order to end-up to best fit models using a grid-search algorithm with cross-validation(I could use keras-tuner that would be much easier to implement but\n",
    "I don't know how well it works with pytorch models). \n",
    "# Dataset\n",
    "Last but not least I selected two datasets in order to test if a pretrained model could be migrated and get good in classifying other type of images.\n",
    "So, I used cifar10 for training and then I tested it both on Cifar and Intel Image Classification Dataset that I downloaded from Kaggle.\n",
    "# Disclaimers\n",
    "- The time that I had was quite limited because I am in a period that I looking for thesis undertaking.\n",
    "- Pytorch on python3.11 is not even ported today so conda env with python3.8 was used and I lost some time searching if there is any possible way that I could fix this issue. "
   ]
  },
  {
   "cell_type": "markdown",
   "metadata": {},
   "source": [
    "Get ssl-certificate for jupyter-notebook connection enstablishment"
   ]
  },
  {
   "cell_type": "code",
   "execution_count": 4,
   "metadata": {},
   "outputs": [],
   "source": [
    "import ssl \n",
    "ssl._create_default_https_context = ssl._create_unverified_context"
   ]
  },
  {
   "cell_type": "markdown",
   "metadata": {},
   "source": [
    "Install dependencies"
   ]
  },
  {
   "cell_type": "code",
   "execution_count": 5,
   "metadata": {},
   "outputs": [
    {
     "name": "stdout",
     "output_type": "stream",
     "text": [
      "Requirement already satisfied: torch in c:\\users\\harry\\.conda\\envs\\segmentation\\lib\\site-packages (from -r ../../requirements.txt (line 1)) (1.13.0)\n",
      "Requirement already satisfied: torchvision in c:\\users\\harry\\.conda\\envs\\segmentation\\lib\\site-packages (from -r ../../requirements.txt (line 2)) (0.14.0)\n",
      "Requirement already satisfied: torchaudio in c:\\users\\harry\\.conda\\envs\\segmentation\\lib\\site-packages (from -r ../../requirements.txt (line 3)) (0.13.0)\n",
      "Requirement already satisfied: tensorflow in c:\\users\\harry\\.conda\\envs\\segmentation\\lib\\site-packages (from -r ../../requirements.txt (line 4)) (2.9.1)\n",
      "Requirement already satisfied: seaborn in c:\\users\\harry\\.conda\\envs\\segmentation\\lib\\site-packages (from -r ../../requirements.txt (line 5)) (0.12.1)\n",
      "Requirement already satisfied: pandas in c:\\users\\harry\\.conda\\envs\\segmentation\\lib\\site-packages (from -r ../../requirements.txt (line 6)) (1.5.1)\n",
      "Requirement already satisfied: cifar10 in c:\\users\\harry\\.conda\\envs\\segmentation\\lib\\site-packages (from -r ../../requirements.txt (line 7)) (1.0.0)\n",
      "Requirement already satisfied: cifar10_web in c:\\users\\harry\\.conda\\envs\\segmentation\\lib\\site-packages (from -r ../../requirements.txt (line 8)) (0.0.4)\n",
      "Requirement already satisfied: mnist in c:\\users\\harry\\.conda\\envs\\segmentation\\lib\\site-packages (from -r ../../requirements.txt (line 9)) (0.2.2)\n",
      "Requirement already satisfied: python_mnist in c:\\users\\harry\\.conda\\envs\\segmentation\\lib\\site-packages (from -r ../../requirements.txt (line 10)) (0.7)\n",
      "Requirement already satisfied: numpy in c:\\users\\harry\\.conda\\envs\\segmentation\\lib\\site-packages (from -r ../../requirements.txt (line 11)) (1.23.2)\n",
      "Requirement already satisfied: scikit_learn in c:\\users\\harry\\.conda\\envs\\segmentation\\lib\\site-packages (from -r ../../requirements.txt (line 12)) (1.1.3)\n",
      "Requirement already satisfied: matplotlib in c:\\users\\harry\\.conda\\envs\\segmentation\\lib\\site-packages (from -r ../../requirements.txt (line 13)) (3.6.2)\n",
      "Requirement already satisfied: pillow in c:\\users\\harry\\.conda\\envs\\segmentation\\lib\\site-packages (from -r ../../requirements.txt (line 14)) (9.2.0)\n",
      "Requirement already satisfied: opencv-python in c:\\users\\harry\\.conda\\envs\\segmentation\\lib\\site-packages (from -r ../../requirements.txt (line 15)) (4.6.0.66)\n",
      "Requirement already satisfied: ipykernel in c:\\users\\harry\\.conda\\envs\\segmentation\\lib\\site-packages (from -r ../../requirements.txt (line 16)) (6.15.1)\n",
      "Requirement already satisfied: jupyterlab in c:\\users\\harry\\.conda\\envs\\segmentation\\lib\\site-packages (from -r ../../requirements.txt (line 17)) (3.5.0)\n",
      "Requirement already satisfied: notebook in c:\\users\\harry\\.conda\\envs\\segmentation\\lib\\site-packages (from -r ../../requirements.txt (line 18)) (6.4.12)\n",
      "Requirement already satisfied: scikit-learn-extra in c:\\users\\harry\\.conda\\envs\\segmentation\\lib\\site-packages (from -r ../../requirements.txt (line 20)) (0.2.0)\n",
      "Requirement already satisfied: typing-extensions in c:\\users\\harry\\.conda\\envs\\segmentation\\lib\\site-packages (from torch->-r ../../requirements.txt (line 1)) (4.3.0)\n",
      "Requirement already satisfied: requests in c:\\users\\harry\\.conda\\envs\\segmentation\\lib\\site-packages (from torchvision->-r ../../requirements.txt (line 2)) (2.28.1)\n",
      "Requirement already satisfied: keras<2.10.0,>=2.9.0rc0 in c:\\users\\harry\\.conda\\envs\\segmentation\\lib\\site-packages (from tensorflow->-r ../../requirements.txt (line 4)) (2.9.0)\n",
      "Requirement already satisfied: six>=1.12.0 in c:\\users\\harry\\.conda\\envs\\segmentation\\lib\\site-packages (from tensorflow->-r ../../requirements.txt (line 4)) (1.16.0)\n",
      "Requirement already satisfied: grpcio<2.0,>=1.24.3 in c:\\users\\harry\\.conda\\envs\\segmentation\\lib\\site-packages (from tensorflow->-r ../../requirements.txt (line 4)) (1.47.0)\n",
      "Requirement already satisfied: flatbuffers<2,>=1.12 in c:\\users\\harry\\.conda\\envs\\segmentation\\lib\\site-packages (from tensorflow->-r ../../requirements.txt (line 4)) (1.12)\n",
      "Requirement already satisfied: astunparse>=1.6.0 in c:\\users\\harry\\.conda\\envs\\segmentation\\lib\\site-packages (from tensorflow->-r ../../requirements.txt (line 4)) (1.6.3)\n",
      "Requirement already satisfied: keras-preprocessing>=1.1.1 in c:\\users\\harry\\.conda\\envs\\segmentation\\lib\\site-packages (from tensorflow->-r ../../requirements.txt (line 4)) (1.1.2)\n",
      "Requirement already satisfied: gast<=0.4.0,>=0.2.1 in c:\\users\\harry\\.conda\\envs\\segmentation\\lib\\site-packages (from tensorflow->-r ../../requirements.txt (line 4)) (0.4.0)\n",
      "Requirement already satisfied: wrapt>=1.11.0 in c:\\users\\harry\\.conda\\envs\\segmentation\\lib\\site-packages (from tensorflow->-r ../../requirements.txt (line 4)) (1.14.1)\n",
      "Requirement already satisfied: absl-py>=1.0.0 in c:\\users\\harry\\.conda\\envs\\segmentation\\lib\\site-packages (from tensorflow->-r ../../requirements.txt (line 4)) (1.2.0)\n",
      "Requirement already satisfied: protobuf<3.20,>=3.9.2 in c:\\users\\harry\\.conda\\envs\\segmentation\\lib\\site-packages (from tensorflow->-r ../../requirements.txt (line 4)) (3.19.4)\n",
      "Requirement already satisfied: tensorflow-estimator<2.10.0,>=2.9.0rc0 in c:\\users\\harry\\.conda\\envs\\segmentation\\lib\\site-packages (from tensorflow->-r ../../requirements.txt (line 4)) (2.9.0)\n",
      "Requirement already satisfied: setuptools in c:\\users\\harry\\.conda\\envs\\segmentation\\lib\\site-packages (from tensorflow->-r ../../requirements.txt (line 4)) (65.2.0)\n",
      "Requirement already satisfied: google-pasta>=0.1.1 in c:\\users\\harry\\.conda\\envs\\segmentation\\lib\\site-packages (from tensorflow->-r ../../requirements.txt (line 4)) (0.2.0)\n",
      "Requirement already satisfied: opt-einsum>=2.3.2 in c:\\users\\harry\\.conda\\envs\\segmentation\\lib\\site-packages (from tensorflow->-r ../../requirements.txt (line 4)) (3.3.0)\n",
      "Requirement already satisfied: tensorflow-io-gcs-filesystem>=0.23.1 in c:\\users\\harry\\.conda\\envs\\segmentation\\lib\\site-packages (from tensorflow->-r ../../requirements.txt (line 4)) (0.26.0)\n",
      "Requirement already satisfied: h5py>=2.9.0 in c:\\users\\harry\\.conda\\envs\\segmentation\\lib\\site-packages (from tensorflow->-r ../../requirements.txt (line 4)) (3.7.0)\n",
      "Requirement already satisfied: tensorboard<2.10,>=2.9 in c:\\users\\harry\\.conda\\envs\\segmentation\\lib\\site-packages (from tensorflow->-r ../../requirements.txt (line 4)) (2.9.1)\n",
      "Requirement already satisfied: packaging in c:\\users\\harry\\.conda\\envs\\segmentation\\lib\\site-packages (from tensorflow->-r ../../requirements.txt (line 4)) (21.3)\n",
      "Requirement already satisfied: termcolor>=1.1.0 in c:\\users\\harry\\.conda\\envs\\segmentation\\lib\\site-packages (from tensorflow->-r ../../requirements.txt (line 4)) (1.1.0)\n",
      "Requirement already satisfied: libclang>=13.0.0 in c:\\users\\harry\\.conda\\envs\\segmentation\\lib\\site-packages (from tensorflow->-r ../../requirements.txt (line 4)) (14.0.6)\n",
      "Requirement already satisfied: python-dateutil>=2.8.1 in c:\\users\\harry\\.conda\\envs\\segmentation\\lib\\site-packages (from pandas->-r ../../requirements.txt (line 6)) (2.8.2)\n",
      "Requirement already satisfied: pytz>=2020.1 in c:\\users\\harry\\.conda\\envs\\segmentation\\lib\\site-packages (from pandas->-r ../../requirements.txt (line 6)) (2022.6)\n",
      "Requirement already satisfied: tqdm in c:\\users\\harry\\.conda\\envs\\segmentation\\lib\\site-packages (from cifar10->-r ../../requirements.txt (line 7)) (4.64.1)\n",
      "Requirement already satisfied: threadpoolctl>=2.0.0 in c:\\users\\harry\\.conda\\envs\\segmentation\\lib\\site-packages (from scikit_learn->-r ../../requirements.txt (line 12)) (3.1.0)\n",
      "Requirement already satisfied: scipy>=1.3.2 in c:\\users\\harry\\.conda\\envs\\segmentation\\lib\\site-packages (from scikit_learn->-r ../../requirements.txt (line 12)) (1.9.3)\n",
      "Requirement already satisfied: joblib>=1.0.0 in c:\\users\\harry\\.conda\\envs\\segmentation\\lib\\site-packages (from scikit_learn->-r ../../requirements.txt (line 12)) (1.2.0)\n",
      "Requirement already satisfied: kiwisolver>=1.0.1 in c:\\users\\harry\\.conda\\envs\\segmentation\\lib\\site-packages (from matplotlib->-r ../../requirements.txt (line 13)) (1.4.4)\n",
      "Requirement already satisfied: pyparsing>=2.2.1 in c:\\users\\harry\\.conda\\envs\\segmentation\\lib\\site-packages (from matplotlib->-r ../../requirements.txt (line 13)) (3.0.9)\n",
      "Requirement already satisfied: fonttools>=4.22.0 in c:\\users\\harry\\.conda\\envs\\segmentation\\lib\\site-packages (from matplotlib->-r ../../requirements.txt (line 13)) (4.38.0)\n",
      "Requirement already satisfied: cycler>=0.10 in c:\\users\\harry\\.conda\\envs\\segmentation\\lib\\site-packages (from matplotlib->-r ../../requirements.txt (line 13)) (0.11.0)\n",
      "Requirement already satisfied: contourpy>=1.0.1 in c:\\users\\harry\\.conda\\envs\\segmentation\\lib\\site-packages (from matplotlib->-r ../../requirements.txt (line 13)) (1.0.6)\n",
      "Requirement already satisfied: ipython>=7.23.1 in c:\\users\\harry\\.conda\\envs\\segmentation\\lib\\site-packages (from ipykernel->-r ../../requirements.txt (line 16)) (8.4.0)\n",
      "Requirement already satisfied: tornado>=6.1 in c:\\users\\harry\\.conda\\envs\\segmentation\\lib\\site-packages (from ipykernel->-r ../../requirements.txt (line 16)) (6.2)\n",
      "Requirement already satisfied: nest-asyncio in c:\\users\\harry\\.conda\\envs\\segmentation\\lib\\site-packages (from ipykernel->-r ../../requirements.txt (line 16)) (1.5.5)\n",
      "Requirement already satisfied: debugpy>=1.0 in c:\\users\\harry\\.conda\\envs\\segmentation\\lib\\site-packages (from ipykernel->-r ../../requirements.txt (line 16)) (1.6.3)\n",
      "Requirement already satisfied: psutil in c:\\users\\harry\\.conda\\envs\\segmentation\\lib\\site-packages (from ipykernel->-r ../../requirements.txt (line 16)) (5.9.1)\n",
      "Requirement already satisfied: jupyter-client>=6.1.12 in c:\\users\\harry\\.conda\\envs\\segmentation\\lib\\site-packages (from ipykernel->-r ../../requirements.txt (line 16)) (7.3.4)\n",
      "Requirement already satisfied: matplotlib-inline>=0.1 in c:\\users\\harry\\.conda\\envs\\segmentation\\lib\\site-packages (from ipykernel->-r ../../requirements.txt (line 16)) (0.1.6)\n",
      "Requirement already satisfied: traitlets>=5.1.0 in c:\\users\\harry\\.conda\\envs\\segmentation\\lib\\site-packages (from ipykernel->-r ../../requirements.txt (line 16)) (5.3.0)\n",
      "Requirement already satisfied: pyzmq>=17 in c:\\users\\harry\\.conda\\envs\\segmentation\\lib\\site-packages (from ipykernel->-r ../../requirements.txt (line 16)) (23.2.1)\n",
      "Requirement already satisfied: jinja2>=2.1 in c:\\users\\harry\\.conda\\envs\\segmentation\\lib\\site-packages (from jupyterlab->-r ../../requirements.txt (line 17)) (3.1.2)\n",
      "Requirement already satisfied: tomli in c:\\users\\harry\\.conda\\envs\\segmentation\\lib\\site-packages (from jupyterlab->-r ../../requirements.txt (line 17)) (2.0.1)\n",
      "Requirement already satisfied: jupyter-server<3,>=1.16.0 in c:\\users\\harry\\.conda\\envs\\segmentation\\lib\\site-packages (from jupyterlab->-r ../../requirements.txt (line 17)) (1.23.1)\n",
      "Requirement already satisfied: nbclassic in c:\\users\\harry\\.conda\\envs\\segmentation\\lib\\site-packages (from jupyterlab->-r ../../requirements.txt (line 17)) (0.4.8)\n",
      "Requirement already satisfied: jupyterlab-server~=2.10 in c:\\users\\harry\\.conda\\envs\\segmentation\\lib\\site-packages (from jupyterlab->-r ../../requirements.txt (line 17)) (2.16.3)\n",
      "Requirement already satisfied: jupyter-core in c:\\users\\harry\\.conda\\envs\\segmentation\\lib\\site-packages (from jupyterlab->-r ../../requirements.txt (line 17)) (4.11.1)\n",
      "Requirement already satisfied: ipython-genutils in c:\\users\\harry\\.conda\\envs\\segmentation\\lib\\site-packages (from notebook->-r ../../requirements.txt (line 18)) (0.2.0)\n",
      "Requirement already satisfied: Send2Trash>=1.8.0 in c:\\users\\harry\\.conda\\envs\\segmentation\\lib\\site-packages (from notebook->-r ../../requirements.txt (line 18)) (1.8.0)\n",
      "Requirement already satisfied: prometheus-client in c:\\users\\harry\\.conda\\envs\\segmentation\\lib\\site-packages (from notebook->-r ../../requirements.txt (line 18)) (0.14.1)\n",
      "Requirement already satisfied: terminado>=0.8.3 in c:\\users\\harry\\.conda\\envs\\segmentation\\lib\\site-packages (from notebook->-r ../../requirements.txt (line 18)) (0.15.0)\n",
      "Requirement already satisfied: argon2-cffi in c:\\users\\harry\\.conda\\envs\\segmentation\\lib\\site-packages (from notebook->-r ../../requirements.txt (line 18)) (21.3.0)\n",
      "Requirement already satisfied: nbconvert>=5 in c:\\users\\harry\\.conda\\envs\\segmentation\\lib\\site-packages (from notebook->-r ../../requirements.txt (line 18)) (7.0.0)\n",
      "Requirement already satisfied: nbformat in c:\\users\\harry\\.conda\\envs\\segmentation\\lib\\site-packages (from notebook->-r ../../requirements.txt (line 18)) (5.4.0)\n",
      "Requirement already satisfied: wheel<1.0,>=0.23.0 in c:\\users\\harry\\.conda\\envs\\segmentation\\lib\\site-packages (from astunparse>=1.6.0->tensorflow->-r ../../requirements.txt (line 4)) (0.37.1)\n",
      "Requirement already satisfied: pygments>=2.4.0 in c:\\users\\harry\\.conda\\envs\\segmentation\\lib\\site-packages (from ipython>=7.23.1->ipykernel->-r ../../requirements.txt (line 16)) (2.13.0)\n",
      "Requirement already satisfied: decorator in c:\\users\\harry\\.conda\\envs\\segmentation\\lib\\site-packages (from ipython>=7.23.1->ipykernel->-r ../../requirements.txt (line 16)) (5.1.1)\n",
      "Requirement already satisfied: colorama in c:\\users\\harry\\.conda\\envs\\segmentation\\lib\\site-packages (from ipython>=7.23.1->ipykernel->-r ../../requirements.txt (line 16)) (0.4.5)\n",
      "Requirement already satisfied: jedi>=0.16 in c:\\users\\harry\\.conda\\envs\\segmentation\\lib\\site-packages (from ipython>=7.23.1->ipykernel->-r ../../requirements.txt (line 16)) (0.18.1)\n",
      "Requirement already satisfied: pickleshare in c:\\users\\harry\\.conda\\envs\\segmentation\\lib\\site-packages (from ipython>=7.23.1->ipykernel->-r ../../requirements.txt (line 16)) (0.7.5)\n",
      "Requirement already satisfied: prompt-toolkit!=3.0.0,!=3.0.1,<3.1.0,>=2.0.0 in c:\\users\\harry\\.conda\\envs\\segmentation\\lib\\site-packages (from ipython>=7.23.1->ipykernel->-r ../../requirements.txt (line 16)) (3.0.30)\n",
      "Requirement already satisfied: backcall in c:\\users\\harry\\.conda\\envs\\segmentation\\lib\\site-packages (from ipython>=7.23.1->ipykernel->-r ../../requirements.txt (line 16)) (0.2.0)\n",
      "Requirement already satisfied: stack-data in c:\\users\\harry\\.conda\\envs\\segmentation\\lib\\site-packages (from ipython>=7.23.1->ipykernel->-r ../../requirements.txt (line 16)) (0.4.0)\n",
      "Requirement already satisfied: MarkupSafe>=2.0 in c:\\users\\harry\\.conda\\envs\\segmentation\\lib\\site-packages (from jinja2>=2.1->jupyterlab->-r ../../requirements.txt (line 17)) (2.1.1)\n",
      "Requirement already satisfied: entrypoints in c:\\users\\harry\\.conda\\envs\\segmentation\\lib\\site-packages (from jupyter-client>=6.1.12->ipykernel->-r ../../requirements.txt (line 16)) (0.4)\n",
      "Requirement already satisfied: pywin32>=1.0 in c:\\users\\harry\\.conda\\envs\\segmentation\\lib\\site-packages (from jupyter-core->jupyterlab->-r ../../requirements.txt (line 17)) (304)\n",
      "Requirement already satisfied: pywinpty in c:\\users\\harry\\.conda\\envs\\segmentation\\lib\\site-packages (from jupyter-server<3,>=1.16.0->jupyterlab->-r ../../requirements.txt (line 17)) (2.0.7)\n",
      "Requirement already satisfied: anyio<4,>=3.1.0 in c:\\users\\harry\\.conda\\envs\\segmentation\\lib\\site-packages (from jupyter-server<3,>=1.16.0->jupyterlab->-r ../../requirements.txt (line 17)) (3.6.2)\n",
      "Requirement already satisfied: websocket-client in c:\\users\\harry\\.conda\\envs\\segmentation\\lib\\site-packages (from jupyter-server<3,>=1.16.0->jupyterlab->-r ../../requirements.txt (line 17)) (1.4.2)\n",
      "Requirement already satisfied: json5 in c:\\users\\harry\\.conda\\envs\\segmentation\\lib\\site-packages (from jupyterlab-server~=2.10->jupyterlab->-r ../../requirements.txt (line 17)) (0.9.10)\n",
      "Requirement already satisfied: babel in c:\\users\\harry\\.conda\\envs\\segmentation\\lib\\site-packages (from jupyterlab-server~=2.10->jupyterlab->-r ../../requirements.txt (line 17)) (2.11.0)\n",
      "Requirement already satisfied: importlib-metadata>=4.8.3 in c:\\users\\harry\\.conda\\envs\\segmentation\\lib\\site-packages (from jupyterlab-server~=2.10->jupyterlab->-r ../../requirements.txt (line 17)) (4.12.0)\n",
      "Requirement already satisfied: jsonschema>=3.0.1 in c:\\users\\harry\\.conda\\envs\\segmentation\\lib\\site-packages (from jupyterlab-server~=2.10->jupyterlab->-r ../../requirements.txt (line 17)) (4.14.0)\n",
      "Requirement already satisfied: beautifulsoup4 in c:\\users\\harry\\.conda\\envs\\segmentation\\lib\\site-packages (from nbconvert>=5->notebook->-r ../../requirements.txt (line 18)) (4.11.1)\n",
      "Requirement already satisfied: jupyterlab-pygments in c:\\users\\harry\\.conda\\envs\\segmentation\\lib\\site-packages (from nbconvert>=5->notebook->-r ../../requirements.txt (line 18)) (0.2.2)\n",
      "Requirement already satisfied: lxml in c:\\users\\harry\\.conda\\envs\\segmentation\\lib\\site-packages (from nbconvert>=5->notebook->-r ../../requirements.txt (line 18)) (4.9.1)\n",
      "Requirement already satisfied: pandocfilters>=1.4.1 in c:\\users\\harry\\.conda\\envs\\segmentation\\lib\\site-packages (from nbconvert>=5->notebook->-r ../../requirements.txt (line 18)) (1.5.0)\n",
      "Requirement already satisfied: bleach in c:\\users\\harry\\.conda\\envs\\segmentation\\lib\\site-packages (from nbconvert>=5->notebook->-r ../../requirements.txt (line 18)) (5.0.1)\n",
      "Requirement already satisfied: defusedxml in c:\\users\\harry\\.conda\\envs\\segmentation\\lib\\site-packages (from nbconvert>=5->notebook->-r ../../requirements.txt (line 18)) (0.7.1)\n",
      "Requirement already satisfied: mistune<3,>=2.0.3 in c:\\users\\harry\\.conda\\envs\\segmentation\\lib\\site-packages (from nbconvert>=5->notebook->-r ../../requirements.txt (line 18)) (2.0.4)\n",
      "Requirement already satisfied: nbclient>=0.5.0 in c:\\users\\harry\\.conda\\envs\\segmentation\\lib\\site-packages (from nbconvert>=5->notebook->-r ../../requirements.txt (line 18)) (0.6.7)\n",
      "Requirement already satisfied: tinycss2 in c:\\users\\harry\\.conda\\envs\\segmentation\\lib\\site-packages (from nbconvert>=5->notebook->-r ../../requirements.txt (line 18)) (1.1.1)\n",
      "Requirement already satisfied: fastjsonschema in c:\\users\\harry\\.conda\\envs\\segmentation\\lib\\site-packages (from nbformat->notebook->-r ../../requirements.txt (line 18)) (2.16.1)\n",
      "Requirement already satisfied: markdown>=2.6.8 in c:\\users\\harry\\.conda\\envs\\segmentation\\lib\\site-packages (from tensorboard<2.10,>=2.9->tensorflow->-r ../../requirements.txt (line 4)) (3.4.1)\n",
      "Requirement already satisfied: google-auth-oauthlib<0.5,>=0.4.1 in c:\\users\\harry\\.conda\\envs\\segmentation\\lib\\site-packages (from tensorboard<2.10,>=2.9->tensorflow->-r ../../requirements.txt (line 4)) (0.4.6)\n",
      "Requirement already satisfied: werkzeug>=1.0.1 in c:\\users\\harry\\.conda\\envs\\segmentation\\lib\\site-packages (from tensorboard<2.10,>=2.9->tensorflow->-r ../../requirements.txt (line 4)) (2.2.2)\n",
      "Requirement already satisfied: google-auth<3,>=1.6.3 in c:\\users\\harry\\.conda\\envs\\segmentation\\lib\\site-packages (from tensorboard<2.10,>=2.9->tensorflow->-r ../../requirements.txt (line 4)) (2.11.0)\n",
      "Requirement already satisfied: tensorboard-data-server<0.7.0,>=0.6.0 in c:\\users\\harry\\.conda\\envs\\segmentation\\lib\\site-packages (from tensorboard<2.10,>=2.9->tensorflow->-r ../../requirements.txt (line 4)) (0.6.1)\n",
      "Requirement already satisfied: tensorboard-plugin-wit>=1.6.0 in c:\\users\\harry\\.conda\\envs\\segmentation\\lib\\site-packages (from tensorboard<2.10,>=2.9->tensorflow->-r ../../requirements.txt (line 4)) (1.8.1)\n",
      "Requirement already satisfied: charset-normalizer<3,>=2 in c:\\users\\harry\\.conda\\envs\\segmentation\\lib\\site-packages (from requests->torchvision->-r ../../requirements.txt (line 2)) (2.1.1)\n",
      "Requirement already satisfied: certifi>=2017.4.17 in c:\\users\\harry\\.conda\\envs\\segmentation\\lib\\site-packages (from requests->torchvision->-r ../../requirements.txt (line 2)) (2022.6.15)\n",
      "Requirement already satisfied: idna<4,>=2.5 in c:\\users\\harry\\.conda\\envs\\segmentation\\lib\\site-packages (from requests->torchvision->-r ../../requirements.txt (line 2)) (3.3)\n",
      "Requirement already satisfied: urllib3<1.27,>=1.21.1 in c:\\users\\harry\\.conda\\envs\\segmentation\\lib\\site-packages (from requests->torchvision->-r ../../requirements.txt (line 2)) (1.26.12)\n",
      "Requirement already satisfied: argon2-cffi-bindings in c:\\users\\harry\\.conda\\envs\\segmentation\\lib\\site-packages (from argon2-cffi->notebook->-r ../../requirements.txt (line 18)) (21.2.0)\n",
      "Requirement already satisfied: notebook-shim>=0.1.0 in c:\\users\\harry\\.conda\\envs\\segmentation\\lib\\site-packages (from nbclassic->jupyterlab->-r ../../requirements.txt (line 17)) (0.2.2)\n",
      "Requirement already satisfied: sniffio>=1.1 in c:\\users\\harry\\.conda\\envs\\segmentation\\lib\\site-packages (from anyio<4,>=3.1.0->jupyter-server<3,>=1.16.0->jupyterlab->-r ../../requirements.txt (line 17)) (1.3.0)\n",
      "Requirement already satisfied: rsa<5,>=3.1.4 in c:\\users\\harry\\.conda\\envs\\segmentation\\lib\\site-packages (from google-auth<3,>=1.6.3->tensorboard<2.10,>=2.9->tensorflow->-r ../../requirements.txt (line 4)) (4.9)\n",
      "Requirement already satisfied: pyasn1-modules>=0.2.1 in c:\\users\\harry\\.conda\\envs\\segmentation\\lib\\site-packages (from google-auth<3,>=1.6.3->tensorboard<2.10,>=2.9->tensorflow->-r ../../requirements.txt (line 4)) (0.2.8)\n",
      "Requirement already satisfied: cachetools<6.0,>=2.0.0 in c:\\users\\harry\\.conda\\envs\\segmentation\\lib\\site-packages (from google-auth<3,>=1.6.3->tensorboard<2.10,>=2.9->tensorflow->-r ../../requirements.txt (line 4)) (5.2.0)\n",
      "Requirement already satisfied: requests-oauthlib>=0.7.0 in c:\\users\\harry\\.conda\\envs\\segmentation\\lib\\site-packages (from google-auth-oauthlib<0.5,>=0.4.1->tensorboard<2.10,>=2.9->tensorflow->-r ../../requirements.txt (line 4)) (1.3.1)\n",
      "Requirement already satisfied: zipp>=0.5 in c:\\users\\harry\\.conda\\envs\\segmentation\\lib\\site-packages (from importlib-metadata>=4.8.3->jupyterlab-server~=2.10->jupyterlab->-r ../../requirements.txt (line 17)) (3.8.1)\n",
      "Requirement already satisfied: parso<0.9.0,>=0.8.0 in c:\\users\\harry\\.conda\\envs\\segmentation\\lib\\site-packages (from jedi>=0.16->ipython>=7.23.1->ipykernel->-r ../../requirements.txt (line 16)) (0.8.3)\n",
      "Requirement already satisfied: importlib-resources>=1.4.0 in c:\\users\\harry\\.conda\\envs\\segmentation\\lib\\site-packages (from jsonschema>=3.0.1->jupyterlab-server~=2.10->jupyterlab->-r ../../requirements.txt (line 17)) (5.9.0)\n",
      "Requirement already satisfied: attrs>=17.4.0 in c:\\users\\harry\\.conda\\envs\\segmentation\\lib\\site-packages (from jsonschema>=3.0.1->jupyterlab-server~=2.10->jupyterlab->-r ../../requirements.txt (line 17)) (22.1.0)\n",
      "Requirement already satisfied: pkgutil-resolve-name>=1.3.10 in c:\\users\\harry\\.conda\\envs\\segmentation\\lib\\site-packages (from jsonschema>=3.0.1->jupyterlab-server~=2.10->jupyterlab->-r ../../requirements.txt (line 17)) (1.3.10)\n",
      "Requirement already satisfied: pyrsistent!=0.17.0,!=0.17.1,!=0.17.2,>=0.14.0 in c:\\users\\harry\\.conda\\envs\\segmentation\\lib\\site-packages (from jsonschema>=3.0.1->jupyterlab-server~=2.10->jupyterlab->-r ../../requirements.txt (line 17)) (0.18.1)\n",
      "Requirement already satisfied: wcwidth in c:\\users\\harry\\.conda\\envs\\segmentation\\lib\\site-packages (from prompt-toolkit!=3.0.0,!=3.0.1,<3.1.0,>=2.0.0->ipython>=7.23.1->ipykernel->-r ../../requirements.txt (line 16)) (0.2.5)\n",
      "Requirement already satisfied: cffi>=1.0.1 in c:\\users\\harry\\.conda\\envs\\segmentation\\lib\\site-packages (from argon2-cffi-bindings->argon2-cffi->notebook->-r ../../requirements.txt (line 18)) (1.15.1)\n",
      "Requirement already satisfied: soupsieve>1.2 in c:\\users\\harry\\.conda\\envs\\segmentation\\lib\\site-packages (from beautifulsoup4->nbconvert>=5->notebook->-r ../../requirements.txt (line 18)) (2.3.2.post1)\n",
      "Requirement already satisfied: webencodings in c:\\users\\harry\\.conda\\envs\\segmentation\\lib\\site-packages (from bleach->nbconvert>=5->notebook->-r ../../requirements.txt (line 18)) (0.5.1)\n",
      "Requirement already satisfied: pure-eval in c:\\users\\harry\\.conda\\envs\\segmentation\\lib\\site-packages (from stack-data->ipython>=7.23.1->ipykernel->-r ../../requirements.txt (line 16)) (0.2.2)\n",
      "Requirement already satisfied: asttokens in c:\\users\\harry\\.conda\\envs\\segmentation\\lib\\site-packages (from stack-data->ipython>=7.23.1->ipykernel->-r ../../requirements.txt (line 16)) (2.0.8)\n",
      "Requirement already satisfied: executing in c:\\users\\harry\\.conda\\envs\\segmentation\\lib\\site-packages (from stack-data->ipython>=7.23.1->ipykernel->-r ../../requirements.txt (line 16)) (0.10.0)\n",
      "Requirement already satisfied: pycparser in c:\\users\\harry\\.conda\\envs\\segmentation\\lib\\site-packages (from cffi>=1.0.1->argon2-cffi-bindings->argon2-cffi->notebook->-r ../../requirements.txt (line 18)) (2.21)\n",
      "Requirement already satisfied: pyasn1<0.5.0,>=0.4.6 in c:\\users\\harry\\.conda\\envs\\segmentation\\lib\\site-packages (from pyasn1-modules>=0.2.1->google-auth<3,>=1.6.3->tensorboard<2.10,>=2.9->tensorflow->-r ../../requirements.txt (line 4)) (0.4.8)\n",
      "Requirement already satisfied: oauthlib>=3.0.0 in c:\\users\\harry\\.conda\\envs\\segmentation\\lib\\site-packages (from requests-oauthlib>=0.7.0->google-auth-oauthlib<0.5,>=0.4.1->tensorboard<2.10,>=2.9->tensorflow->-r ../../requirements.txt (line 4)) (3.2.0)\n",
      "Note: you may need to restart the kernel to use updated packages.\n"
     ]
    }
   ],
   "source": [
    "pip install -r ../../requirements.txt"
   ]
  },
  {
   "cell_type": "markdown",
   "metadata": {},
   "source": [
    "## First Things First - Loading the Datasets\n",
    "This was part of the code was written during preliminary task on knn and ncc\n"
   ]
  },
  {
   "cell_type": "code",
   "execution_count": null,
   "metadata": {},
   "outputs": [],
   "source": [
    "import sys\n",
    "sys.path.append('../../NNets-Asgmt1/')\n",
    "from utils.data_loader_CIFAR import load_cifar10_iterators,imshow\n",
    "from utils.data_loader_Intel import load_Intel \n",
    "\n",
    "#Load the CIFAR10 dataset\n",
    "loaders_cifar = load_cifar10_iterators()\n",
    "train_loader = loaders_cifar[0]\n",
    "test_loader = loaders_cifar[1]\n",
    "val_loader = loaders_cifar[2]\n",
    "\n",
    "# lOAD INTEL DATASET\n",
    "X_train,Y_train,X_test,Y_test,X_check,Y_check = load_Intel()"
   ]
  },
  {
   "cell_type": "markdown",
   "metadata": {},
   "source": [
    "Test if dataset is loaded correctly"
   ]
  },
  {
   "cell_type": "markdown",
   "metadata": {},
   "source": []
  }
 ],
 "metadata": {
  "kernelspec": {
   "display_name": "Python 3.8.13 ('segmentation')",
   "language": "python",
   "name": "python3"
  },
  "language_info": {
   "codemirror_mode": {
    "name": "ipython",
    "version": 3
   },
   "file_extension": ".py",
   "mimetype": "text/x-python",
   "name": "python",
   "nbconvert_exporter": "python",
   "pygments_lexer": "ipython3",
   "version": "3.8.13"
  },
  "orig_nbformat": 4,
  "vscode": {
   "interpreter": {
    "hash": "3a2b30898221a9f73744f05efad6ecd0ef65a16605c07e6f8112b0e1c06b5999"
   }
  }
 },
 "nbformat": 4,
 "nbformat_minor": 2
}
